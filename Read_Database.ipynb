{
 "cells": [
  {
   "cell_type": "code",
   "execution_count": 2,
   "metadata": {},
   "outputs": [],
   "source": [
    "import sqlite3\n",
    "conn = sqlite3.connect('final.db')\n",
    "cur = conn.cursor()"
   ]
  },
  {
   "cell_type": "code",
   "execution_count": 3,
   "metadata": {},
   "outputs": [],
   "source": [
    "def fetch_table_names(cur: sqlite3.Cursor) -> [str]:\n",
    "    '''\n",
    "    Retrieves all tables in the database\n",
    "    '''\n",
    "    \n",
    "    cur.execute('SELECT name FROM sqlite_master WHERE type = \\'table\\';')\n",
    "    return [x[0] for x in cur.fetchall()]\n",
    "\n",
    "def fetch_column_names(cur: sqlite3.Cursor, table: str) -> [str]:\n",
    "    '''\n",
    "    Retrieves all columns in a table\n",
    "    '''\n",
    "    \n",
    "    cur.execute('PRAGMA table_info(' + table + ');')\n",
    "    return [x[1] for x in cur.fetchall()]\n",
    "\n",
    "def fetch_col_values(cur: sqlite3.Cursor, table: str, col: str) -> []:\n",
    "    '''\n",
    "    Returns all values for a specific column\n",
    "    '''\n",
    "    \n",
    "    cur.execute('SELECT ' + col + ' FROM ' + table + ';')\n",
    "    return [x[0] for x in cur.fetchall()]"
   ]
  },
  {
   "cell_type": "code",
   "execution_count": 4,
   "metadata": {},
   "outputs": [],
   "source": [
    "# Review:\n",
    "# Database contains tables\n",
    "# You can think of these tables as a database version of a dataframe\n",
    "# Therefore, tables contain columns and rows (each entry)"
   ]
  },
  {
   "cell_type": "code",
   "execution_count": 5,
   "metadata": {},
   "outputs": [
    {
     "data": {
      "text/plain": [
       "['SCHOOL_TRAIN', 'SCHOOL_TEST', 'POKEMON_TRAIN', 'POKEMON_TEST']"
      ]
     },
     "execution_count": 5,
     "metadata": {},
     "output_type": "execute_result"
    }
   ],
   "source": [
    "# Retrieves all possible tables in the database\n",
    "fetch_table_names(cur)"
   ]
  },
  {
   "cell_type": "code",
   "execution_count": 6,
   "metadata": {},
   "outputs": [
    {
     "data": {
      "text/plain": [
       "['rowid',\n",
       " 'unique_id',\n",
       " 'types',\n",
       " 'abilities',\n",
       " 'base_happiness',\n",
       " 'height_m',\n",
       " 'weight_kg',\n",
       " 'poke_stats',\n",
       " 'is_legendary']"
      ]
     },
     "execution_count": 6,
     "metadata": {},
     "output_type": "execute_result"
    }
   ],
   "source": [
    "# Retrieves all possible columns in a table\n",
    "fetch_column_names(cur, 'POKEMON_TRAIN')[:10]"
   ]
  },
  {
   "cell_type": "code",
   "execution_count": 7,
   "metadata": {},
   "outputs": [
    {
     "data": {
      "text/plain": [
       "['rowid',\n",
       " 'unique_id',\n",
       " 'types',\n",
       " 'abilities',\n",
       " 'base_happiness',\n",
       " 'height_m',\n",
       " 'weight_kg',\n",
       " 'poke_stats']"
      ]
     },
     "execution_count": 7,
     "metadata": {},
     "output_type": "execute_result"
    }
   ],
   "source": [
    "fetch_column_names(cur, 'POKEMON_TEST')[:10]"
   ]
  },
  {
   "cell_type": "code",
   "execution_count": 8,
   "metadata": {},
   "outputs": [
    {
     "data": {
      "text/plain": [
       "['nan, 80.0, 55.0, 25.0, 35.0, 35.0']"
      ]
     },
     "execution_count": 8,
     "metadata": {},
     "output_type": "execute_result"
    }
   ],
   "source": [
    "# Retrieves all values in a column\n",
    "fetch_col_values(cur, 'POKEMON_TRAIN', 'poke_stats')[:1]"
   ]
  },
  {
   "cell_type": "code",
   "execution_count": 9,
   "metadata": {},
   "outputs": [],
   "source": [
    "# Note: You can fetch all the values at once with SELECT * FROM TABLE_NAME;\n",
    "# but this is NOT a good idea if you have a ton of data\n",
    "# And since I have 1500 columns, I will not do such"
   ]
  },
  {
   "cell_type": "code",
   "execution_count": 10,
   "metadata": {},
   "outputs": [],
   "source": [
    "import pandas as pd\n",
    "train = pd.DataFrame()\n",
    "\n",
    "# You now know how to easily query (fetch) column data from a database\n",
    "# And also how to find all possible column names\n",
    "# How can you use this knowledge to construct a dataframe?\n",
    "# Good luck"
   ]
  },
  {
   "cell_type": "code",
   "execution_count": 11,
   "metadata": {},
   "outputs": [],
   "source": [
    "train = pd.read_sql_query(\n",
    "'''select\n",
    "rowid,\n",
    "unique_id,\n",
    "types,\n",
    "abilities,\n",
    "base_happiness,\n",
    "height_m,\n",
    "weight_kg,\n",
    "poke_stats,\n",
    "is_legendary\n",
    "from POKEMON_TRAIN''', conn)\n",
    "test = pd.read_sql_query(\n",
    "'''select\n",
    "rowid,\n",
    "unique_id,\n",
    "types,\n",
    "abilities,\n",
    "base_happiness,\n",
    "height_m,\n",
    "weight_kg,\n",
    "poke_stats\n",
    "from POKEMON_TEST''', conn)"
   ]
  },
  {
   "cell_type": "code",
   "execution_count": 12,
   "metadata": {},
   "outputs": [
    {
     "data": {
      "text/html": [
       "<div>\n",
       "<style scoped>\n",
       "    .dataframe tbody tr th:only-of-type {\n",
       "        vertical-align: middle;\n",
       "    }\n",
       "\n",
       "    .dataframe tbody tr th {\n",
       "        vertical-align: top;\n",
       "    }\n",
       "\n",
       "    .dataframe thead th {\n",
       "        text-align: right;\n",
       "    }\n",
       "</style>\n",
       "<table border=\"1\" class=\"dataframe\">\n",
       "  <thead>\n",
       "    <tr style=\"text-align: right;\">\n",
       "      <th></th>\n",
       "      <th>rowid</th>\n",
       "      <th>unique_id</th>\n",
       "      <th>types</th>\n",
       "      <th>abilities</th>\n",
       "      <th>base_happiness</th>\n",
       "      <th>height_m</th>\n",
       "      <th>weight_kg</th>\n",
       "      <th>poke_stats</th>\n",
       "      <th>is_legendary</th>\n",
       "    </tr>\n",
       "  </thead>\n",
       "  <tbody>\n",
       "    <tr>\n",
       "      <th>0</th>\n",
       "      <td>1</td>\n",
       "      <td>665</td>\n",
       "      <td>fighting, nan</td>\n",
       "      <td>['Guts', 'Sheer Force', 'Iron Fist']</td>\n",
       "      <td>70.0</td>\n",
       "      <td>0.6</td>\n",
       "      <td>12.5</td>\n",
       "      <td>nan, 80.0, 55.0, 25.0, 35.0, 35.0</td>\n",
       "      <td>0</td>\n",
       "    </tr>\n",
       "    <tr>\n",
       "      <th>1</th>\n",
       "      <td>2</td>\n",
       "      <td>288</td>\n",
       "      <td>dragon, nan</td>\n",
       "      <td>['Bulletproof', 'Soundproof', 'Overcoat']</td>\n",
       "      <td>70.0</td>\n",
       "      <td>0.6</td>\n",
       "      <td>29.7</td>\n",
       "      <td>nan, nan, 65.0, 45.0, 45.0, 45.0</td>\n",
       "      <td>0</td>\n",
       "    </tr>\n",
       "    <tr>\n",
       "      <th>2</th>\n",
       "      <td>3</td>\n",
       "      <td>349</td>\n",
       "      <td>poison, fire</td>\n",
       "      <td>['Corrosion', 'Oblivious']</td>\n",
       "      <td>70.0</td>\n",
       "      <td>1.2</td>\n",
       "      <td>22.2</td>\n",
       "      <td>nan, 64.0, 60.0, 111.0, 60.0, 117.0</td>\n",
       "      <td>0</td>\n",
       "    </tr>\n",
       "    <tr>\n",
       "      <th>3</th>\n",
       "      <td>4</td>\n",
       "      <td>260</td>\n",
       "      <td>ground, nan</td>\n",
       "      <td>['Rock Head', 'Lightningrod', 'Battle Armor']</td>\n",
       "      <td>70.0</td>\n",
       "      <td>0.4</td>\n",
       "      <td>6.5</td>\n",
       "      <td>nan, 50.0, 95.0, 40.0, 50.0, 35.0</td>\n",
       "      <td>0</td>\n",
       "    </tr>\n",
       "    <tr>\n",
       "      <th>4</th>\n",
       "      <td>5</td>\n",
       "      <td>536</td>\n",
       "      <td>water, nan</td>\n",
       "      <td>['Torrent', 'Sheer Force']</td>\n",
       "      <td>70.0</td>\n",
       "      <td>0.6</td>\n",
       "      <td>9.5</td>\n",
       "      <td>nan, 65.0, 64.0, 44.0, 48.0, 43.0</td>\n",
       "      <td>0</td>\n",
       "    </tr>\n",
       "  </tbody>\n",
       "</table>\n",
       "</div>"
      ],
      "text/plain": [
       "   rowid unique_id          types  \\\n",
       "0      1       665  fighting, nan   \n",
       "1      2       288    dragon, nan   \n",
       "2      3       349   poison, fire   \n",
       "3      4       260    ground, nan   \n",
       "4      5       536     water, nan   \n",
       "\n",
       "                                       abilities base_happiness height_m  \\\n",
       "0           ['Guts', 'Sheer Force', 'Iron Fist']           70.0      0.6   \n",
       "1      ['Bulletproof', 'Soundproof', 'Overcoat']           70.0      0.6   \n",
       "2                     ['Corrosion', 'Oblivious']           70.0      1.2   \n",
       "3  ['Rock Head', 'Lightningrod', 'Battle Armor']           70.0      0.4   \n",
       "4                     ['Torrent', 'Sheer Force']           70.0      0.6   \n",
       "\n",
       "  weight_kg                           poke_stats is_legendary  \n",
       "0      12.5    nan, 80.0, 55.0, 25.0, 35.0, 35.0            0  \n",
       "1      29.7     nan, nan, 65.0, 45.0, 45.0, 45.0            0  \n",
       "2      22.2  nan, 64.0, 60.0, 111.0, 60.0, 117.0            0  \n",
       "3       6.5    nan, 50.0, 95.0, 40.0, 50.0, 35.0            0  \n",
       "4       9.5    nan, 65.0, 64.0, 44.0, 48.0, 43.0            0  "
      ]
     },
     "execution_count": 12,
     "metadata": {},
     "output_type": "execute_result"
    }
   ],
   "source": [
    "train.head()"
   ]
  },
  {
   "cell_type": "code",
   "execution_count": 13,
   "metadata": {},
   "outputs": [
    {
     "data": {
      "text/html": [
       "<div>\n",
       "<style scoped>\n",
       "    .dataframe tbody tr th:only-of-type {\n",
       "        vertical-align: middle;\n",
       "    }\n",
       "\n",
       "    .dataframe tbody tr th {\n",
       "        vertical-align: top;\n",
       "    }\n",
       "\n",
       "    .dataframe thead th {\n",
       "        text-align: right;\n",
       "    }\n",
       "</style>\n",
       "<table border=\"1\" class=\"dataframe\">\n",
       "  <thead>\n",
       "    <tr style=\"text-align: right;\">\n",
       "      <th></th>\n",
       "      <th>rowid</th>\n",
       "      <th>unique_id</th>\n",
       "      <th>types</th>\n",
       "      <th>abilities</th>\n",
       "      <th>base_happiness</th>\n",
       "      <th>height_m</th>\n",
       "      <th>weight_kg</th>\n",
       "      <th>poke_stats</th>\n",
       "    </tr>\n",
       "  </thead>\n",
       "  <tbody>\n",
       "    <tr>\n",
       "      <th>0</th>\n",
       "      <td>1</td>\n",
       "      <td>602</td>\n",
       "      <td>grass, nan</td>\n",
       "      <td>['Overgrow', 'Contrary']</td>\n",
       "      <td>70.0</td>\n",
       "      <td>0.6</td>\n",
       "      <td>8.1</td>\n",
       "      <td>nan, nan, 55.0, 45.0, nan, 63.0</td>\n",
       "    </tr>\n",
       "    <tr>\n",
       "      <th>1</th>\n",
       "      <td>2</td>\n",
       "      <td>756</td>\n",
       "      <td>fairy, flying</td>\n",
       "      <td>['Hustle', 'Serene Grace', 'Super Luck']</td>\n",
       "      <td>70.0</td>\n",
       "      <td>1.5</td>\n",
       "      <td>38.0</td>\n",
       "      <td>nan, nan, 95.0, 120.0, 115.0, 80.0</td>\n",
       "    </tr>\n",
       "    <tr>\n",
       "      <th>2</th>\n",
       "      <td>3</td>\n",
       "      <td>191</td>\n",
       "      <td>electric, nan</td>\n",
       "      <td>['Static', 'Plus']</td>\n",
       "      <td>70.0</td>\n",
       "      <td>1.4</td>\n",
       "      <td>61.5</td>\n",
       "      <td>nan, 95.0, 105.0, 165.0, nan, 45.0</td>\n",
       "    </tr>\n",
       "    <tr>\n",
       "      <th>3</th>\n",
       "      <td>4</td>\n",
       "      <td>16</td>\n",
       "      <td>psychic, nan</td>\n",
       "      <td>['Levitate']</td>\n",
       "      <td>None</td>\n",
       "      <td>0.2</td>\n",
       "      <td>0.6</td>\n",
       "      <td>nan, 30.0, 50.0, 65.0, nan, 45.0</td>\n",
       "    </tr>\n",
       "    <tr>\n",
       "      <th>4</th>\n",
       "      <td>5</td>\n",
       "      <td>718</td>\n",
       "      <td>fighting, psychic</td>\n",
       "      <td>['Pure Power', 'Telepathy']</td>\n",
       "      <td>None</td>\n",
       "      <td>1.3</td>\n",
       "      <td>31.5</td>\n",
       "      <td>nan, 100.0, 85.0, 80.0, 85.0, 100.0</td>\n",
       "    </tr>\n",
       "  </tbody>\n",
       "</table>\n",
       "</div>"
      ],
      "text/plain": [
       "   rowid unique_id              types  \\\n",
       "0      1       602         grass, nan   \n",
       "1      2       756      fairy, flying   \n",
       "2      3       191      electric, nan   \n",
       "3      4        16       psychic, nan   \n",
       "4      5       718  fighting, psychic   \n",
       "\n",
       "                                  abilities base_happiness height_m weight_kg  \\\n",
       "0                  ['Overgrow', 'Contrary']           70.0      0.6       8.1   \n",
       "1  ['Hustle', 'Serene Grace', 'Super Luck']           70.0      1.5      38.0   \n",
       "2                        ['Static', 'Plus']           70.0      1.4      61.5   \n",
       "3                              ['Levitate']           None      0.2       0.6   \n",
       "4               ['Pure Power', 'Telepathy']           None      1.3      31.5   \n",
       "\n",
       "                            poke_stats  \n",
       "0      nan, nan, 55.0, 45.0, nan, 63.0  \n",
       "1   nan, nan, 95.0, 120.0, 115.0, 80.0  \n",
       "2   nan, 95.0, 105.0, 165.0, nan, 45.0  \n",
       "3     nan, 30.0, 50.0, 65.0, nan, 45.0  \n",
       "4  nan, 100.0, 85.0, 80.0, 85.0, 100.0  "
      ]
     },
     "execution_count": 13,
     "metadata": {},
     "output_type": "execute_result"
    }
   ],
   "source": [
    "test.head()"
   ]
  },
  {
   "cell_type": "code",
   "execution_count": 14,
   "metadata": {},
   "outputs": [
    {
     "name": "stdout",
     "output_type": "stream",
     "text": [
      "520 281\n"
     ]
    }
   ],
   "source": [
    "print(len(train),len(test))"
   ]
  },
  {
   "cell_type": "markdown",
   "metadata": {},
   "source": [
    "What to do: separate the different list categories(types, abilities, poke_stats), plot things out, fill null values"
   ]
  },
  {
   "cell_type": "code",
   "execution_count": 16,
   "metadata": {},
   "outputs": [
    {
     "data": {
      "text/plain": [
       "'i'"
      ]
     },
     "execution_count": 16,
     "metadata": {},
     "output_type": "execute_result"
    }
   ],
   "source": []
  },
  {
   "cell_type": "code",
   "execution_count": null,
   "metadata": {},
   "outputs": [],
   "source": []
  }
 ],
 "metadata": {
  "kernelspec": {
   "display_name": "Python 3",
   "language": "python",
   "name": "python3"
  },
  "language_info": {
   "codemirror_mode": {
    "name": "ipython",
    "version": 3
   },
   "file_extension": ".py",
   "mimetype": "text/x-python",
   "name": "python",
   "nbconvert_exporter": "python",
   "pygments_lexer": "ipython3",
   "version": "3.7.3"
  }
 },
 "nbformat": 4,
 "nbformat_minor": 2
}
